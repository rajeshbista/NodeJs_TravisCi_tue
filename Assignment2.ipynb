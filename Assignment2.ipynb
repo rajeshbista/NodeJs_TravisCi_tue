{
  "nbformat": 4,
  "nbformat_minor": 0,
  "metadata": {
    "colab": {
      "name": "Assignment2.ipynb",
      "provenance": [],
      "toc_visible": true,
      "include_colab_link": true
    },
    "kernelspec": {
      "name": "python3",
      "display_name": "Python 3"
    }
  },
  "cells": [
    {
      "cell_type": "markdown",
      "metadata": {
        "id": "view-in-github",
        "colab_type": "text"
      },
      "source": [
        "<a href=\"https://colab.research.google.com/github/rajeshbista/NodeJs_TravisCi_tue/blob/master/Assignment2.ipynb\" target=\"_parent\"><img src=\"https://colab.research.google.com/assets/colab-badge.svg\" alt=\"Open In Colab\"/></a>"
      ]
    },
    {
      "cell_type": "markdown",
      "metadata": {
        "id": "GdRF-CSJq5Yx"
      },
      "source": [
        "# Assignment 02\r\n",
        "\r\n",
        "Dear Team Members,\r\n",
        "\r\n",
        "I hope you are doing GREAT!\r\n",
        "\r\n",
        "The following assignment is a step-by-step process to implement a multiclass classification using Iris classical dataset.\r\n",
        "The idea of the current assignment is to intensify what we have learned in deep learning.\r\n",
        "\r\n",
        "There are some new concepts and challenges that we will face in the current assignment, and we need to resolve each issue and move to the next step.\r\n",
        "\r\n",
        "In week 08 (lecture session), we will discuss part of the potential challenges. The assignment is easy to follow yet needs the patience to solve each question at a time.\r\n",
        "\r\n",
        "**Note:**\r\n",
        "\r\n",
        "Please note that every question has 0.5 and it provides five out of total ten marks for the assignment.\r\n",
        "\r\n",
        "The video presentation, as you have done for Assignment 01, provides the rest of the mark, which is 5.\r\n",
        "\r\n",
        "In short, 5 for coding + 5 for the video presentation = 10.\r\n"
      ]
    },
    {
      "cell_type": "code",
      "metadata": {
        "id": "NpsNfbeiqtC-"
      },
      "source": [
        "#00 The iris.csv file (Iris dataset) is located in the Assignment folder below the current ipynb file."
      ],
      "execution_count": 1,
      "outputs": []
    },
    {
      "cell_type": "markdown",
      "metadata": {
        "id": "YjARgMOGP5W7"
      },
      "source": [
        " **Important Note:** We are NOT allowed to import the dataset from Keras. We need to upload the provided iris.csv file to colab from our Google Drive."
      ]
    },
    {
      "cell_type": "code",
      "metadata": {
        "id": "8cu01QQpGT32"
      },
      "source": [
        "#00 1st, upload the iris.csv into your Google Drive (your Colab folder).\n"
      ],
      "execution_count": 2,
      "outputs": []
    },
    {
      "cell_type": "code",
      "metadata": {
        "id": "thJrLmvPvV4C",
        "colab": {
          "base_uri": "https://localhost:8080/"
        },
        "outputId": "b0c454ee-3ce5-4c28-8e21-d3c4928a087f"
      },
      "source": [
        "from google.colab import drive\n",
        "drive.mount('/content/drive')"
      ],
      "execution_count": 3,
      "outputs": [
        {
          "output_type": "stream",
          "text": [
            "Drive already mounted at /content/drive; to attempt to forcibly remount, call drive.mount(\"/content/drive\", force_remount=True).\n"
          ],
          "name": "stdout"
        }
      ]
    },
    {
      "cell_type": "code",
      "metadata": {
        "id": "-PrhESFFHEQc"
      },
      "source": [
        "#01-a Find the path of iris.csv file, and save it in a variable called fileName."
      ],
      "execution_count": 4,
      "outputs": []
    },
    {
      "cell_type": "code",
      "metadata": {
        "id": "5-1y84ZDG2PU"
      },
      "source": [
        "fileName = \"/content/drive/MyDrive/Colab Notebooks/iris.csv\"\n",
        "# from google.colab import files\n",
        "# uploaded = files.upload()\n"
      ],
      "execution_count": 5,
      "outputs": []
    },
    {
      "cell_type": "code",
      "metadata": {
        "id": "EpPebb_uHCcU"
      },
      "source": [
        "#01-b Read the content of the iris.csv file and save it in a variable, named iris."
      ],
      "execution_count": 6,
      "outputs": []
    },
    {
      "cell_type": "code",
      "metadata": {
        "id": "o-Wps1uaHt4H"
      },
      "source": [
        "import pandas as pd\n",
        "import numpy as np\n",
        "# import io\n",
        "# iris = pd.read_csv(io.StringIO(uploaded['iris.csv'].decode('utf-8')))\n",
        "iris = pd.read_csv(fileName)"
      ],
      "execution_count": 7,
      "outputs": []
    },
    {
      "cell_type": "code",
      "metadata": {
        "id": "Z0cqURBWHowB"
      },
      "source": [
        "\n",
        "\n"
      ],
      "execution_count": 7,
      "outputs": []
    },
    {
      "cell_type": "code",
      "metadata": {
        "id": "4REixnacH0NT"
      },
      "source": [
        "#01-c Show the first 5 rows of the dataframe."
      ],
      "execution_count": 8,
      "outputs": []
    },
    {
      "cell_type": "code",
      "metadata": {
        "id": "M5oKPwinH_WM",
        "colab": {
          "base_uri": "https://localhost:8080/",
          "height": 204
        },
        "outputId": "ef718cf2-d58d-4ab4-fd06-f1e5807fc141"
      },
      "source": [
        "iris.head()"
      ],
      "execution_count": 9,
      "outputs": [
        {
          "output_type": "execute_result",
          "data": {
            "text/html": [
              "<div>\n",
              "<style scoped>\n",
              "    .dataframe tbody tr th:only-of-type {\n",
              "        vertical-align: middle;\n",
              "    }\n",
              "\n",
              "    .dataframe tbody tr th {\n",
              "        vertical-align: top;\n",
              "    }\n",
              "\n",
              "    .dataframe thead th {\n",
              "        text-align: right;\n",
              "    }\n",
              "</style>\n",
              "<table border=\"1\" class=\"dataframe\">\n",
              "  <thead>\n",
              "    <tr style=\"text-align: right;\">\n",
              "      <th></th>\n",
              "      <th>sepal_length</th>\n",
              "      <th>sepal_width</th>\n",
              "      <th>petal_length</th>\n",
              "      <th>petal_width</th>\n",
              "      <th>species</th>\n",
              "    </tr>\n",
              "  </thead>\n",
              "  <tbody>\n",
              "    <tr>\n",
              "      <th>0</th>\n",
              "      <td>5.1</td>\n",
              "      <td>3.5</td>\n",
              "      <td>1.4</td>\n",
              "      <td>0.2</td>\n",
              "      <td>setosa</td>\n",
              "    </tr>\n",
              "    <tr>\n",
              "      <th>1</th>\n",
              "      <td>4.9</td>\n",
              "      <td>3.0</td>\n",
              "      <td>1.4</td>\n",
              "      <td>0.2</td>\n",
              "      <td>setosa</td>\n",
              "    </tr>\n",
              "    <tr>\n",
              "      <th>2</th>\n",
              "      <td>4.7</td>\n",
              "      <td>3.2</td>\n",
              "      <td>1.3</td>\n",
              "      <td>0.2</td>\n",
              "      <td>setosa</td>\n",
              "    </tr>\n",
              "    <tr>\n",
              "      <th>3</th>\n",
              "      <td>4.6</td>\n",
              "      <td>3.1</td>\n",
              "      <td>1.5</td>\n",
              "      <td>0.2</td>\n",
              "      <td>setosa</td>\n",
              "    </tr>\n",
              "    <tr>\n",
              "      <th>4</th>\n",
              "      <td>5.0</td>\n",
              "      <td>3.6</td>\n",
              "      <td>1.4</td>\n",
              "      <td>0.2</td>\n",
              "      <td>setosa</td>\n",
              "    </tr>\n",
              "  </tbody>\n",
              "</table>\n",
              "</div>"
            ],
            "text/plain": [
              "   sepal_length  sepal_width  petal_length  petal_width species\n",
              "0           5.1          3.5           1.4          0.2  setosa\n",
              "1           4.9          3.0           1.4          0.2  setosa\n",
              "2           4.7          3.2           1.3          0.2  setosa\n",
              "3           4.6          3.1           1.5          0.2  setosa\n",
              "4           5.0          3.6           1.4          0.2  setosa"
            ]
          },
          "metadata": {
            "tags": []
          },
          "execution_count": 9
        }
      ]
    },
    {
      "cell_type": "markdown",
      "metadata": {
        "id": "uPslwnx5VlhI"
      },
      "source": [
        "As you see, the last column contains strings. We want to convert these strings to integers,  and we can work with them easily in our Neural Network model.\r\n",
        "\r\n",
        "setosa -> 0\r\n",
        "\r\n",
        "versicolor -> 1\r\n",
        "\r\n",
        "virginica -> 2"
      ]
    },
    {
      "cell_type": "code",
      "metadata": {
        "id": "XaQ9lvJlW63F"
      },
      "source": [
        "#2-a Please convert the last column strings to integers, as \r\n",
        "# setosa -> 0\r\n",
        "# versicolor -> 1\r\n",
        "# virginica -> 2"
      ],
      "execution_count": 10,
      "outputs": []
    },
    {
      "cell_type": "code",
      "metadata": {
        "id": "Ko7gGrfvXE5K"
      },
      "source": [
        "# df['species'] = df['species'].map({'setosa':0, 'versicolor':1, 'virginica':2})\n",
        "iris.species = pd.factorize(iris.species)[0]\n"
      ],
      "execution_count": 11,
      "outputs": []
    },
    {
      "cell_type": "code",
      "metadata": {
        "id": "LtRXugkCXVmm"
      },
      "source": [
        "#2-b Now, check the first 5 elements of the iris dataset once again:"
      ],
      "execution_count": 12,
      "outputs": []
    },
    {
      "cell_type": "code",
      "metadata": {
        "id": "Vpzx6GfcXWIT",
        "colab": {
          "base_uri": "https://localhost:8080/",
          "height": 204
        },
        "outputId": "1322e3f7-3afa-4e97-8e71-9593742361eb"
      },
      "source": [
        "iris.head()\n"
      ],
      "execution_count": 13,
      "outputs": [
        {
          "output_type": "execute_result",
          "data": {
            "text/html": [
              "<div>\n",
              "<style scoped>\n",
              "    .dataframe tbody tr th:only-of-type {\n",
              "        vertical-align: middle;\n",
              "    }\n",
              "\n",
              "    .dataframe tbody tr th {\n",
              "        vertical-align: top;\n",
              "    }\n",
              "\n",
              "    .dataframe thead th {\n",
              "        text-align: right;\n",
              "    }\n",
              "</style>\n",
              "<table border=\"1\" class=\"dataframe\">\n",
              "  <thead>\n",
              "    <tr style=\"text-align: right;\">\n",
              "      <th></th>\n",
              "      <th>sepal_length</th>\n",
              "      <th>sepal_width</th>\n",
              "      <th>petal_length</th>\n",
              "      <th>petal_width</th>\n",
              "      <th>species</th>\n",
              "    </tr>\n",
              "  </thead>\n",
              "  <tbody>\n",
              "    <tr>\n",
              "      <th>0</th>\n",
              "      <td>5.1</td>\n",
              "      <td>3.5</td>\n",
              "      <td>1.4</td>\n",
              "      <td>0.2</td>\n",
              "      <td>0</td>\n",
              "    </tr>\n",
              "    <tr>\n",
              "      <th>1</th>\n",
              "      <td>4.9</td>\n",
              "      <td>3.0</td>\n",
              "      <td>1.4</td>\n",
              "      <td>0.2</td>\n",
              "      <td>0</td>\n",
              "    </tr>\n",
              "    <tr>\n",
              "      <th>2</th>\n",
              "      <td>4.7</td>\n",
              "      <td>3.2</td>\n",
              "      <td>1.3</td>\n",
              "      <td>0.2</td>\n",
              "      <td>0</td>\n",
              "    </tr>\n",
              "    <tr>\n",
              "      <th>3</th>\n",
              "      <td>4.6</td>\n",
              "      <td>3.1</td>\n",
              "      <td>1.5</td>\n",
              "      <td>0.2</td>\n",
              "      <td>0</td>\n",
              "    </tr>\n",
              "    <tr>\n",
              "      <th>4</th>\n",
              "      <td>5.0</td>\n",
              "      <td>3.6</td>\n",
              "      <td>1.4</td>\n",
              "      <td>0.2</td>\n",
              "      <td>0</td>\n",
              "    </tr>\n",
              "  </tbody>\n",
              "</table>\n",
              "</div>"
            ],
            "text/plain": [
              "   sepal_length  sepal_width  petal_length  petal_width  species\n",
              "0           5.1          3.5           1.4          0.2        0\n",
              "1           4.9          3.0           1.4          0.2        0\n",
              "2           4.7          3.2           1.3          0.2        0\n",
              "3           4.6          3.1           1.5          0.2        0\n",
              "4           5.0          3.6           1.4          0.2        0"
            ]
          },
          "metadata": {
            "tags": []
          },
          "execution_count": 13
        }
      ]
    },
    {
      "cell_type": "code",
      "metadata": {
        "id": "QVQ8ZY8DIAmE"
      },
      "source": [
        "#03-a Select the first four columns of the dataframe as the Data and call the data x."
      ],
      "execution_count": 14,
      "outputs": []
    },
    {
      "cell_type": "code",
      "metadata": {
        "id": "QJzxWYKBVPMD",
        "colab": {
          "base_uri": "https://localhost:8080/"
        },
        "outputId": "48722a67-b28c-4a5b-8fcc-64d7dae53f11"
      },
      "source": [
        "data = [\"sepal_length\",\"sepal_width\", \"petal_length\",\"petal_width\"]\n",
        "x = iris.loc[:, data]\n",
        "# x.shape\n",
        "x.columns"
      ],
      "execution_count": 15,
      "outputs": [
        {
          "output_type": "execute_result",
          "data": {
            "text/plain": [
              "Index(['sepal_length', 'sepal_width', 'petal_length', 'petal_width'], dtype='object')"
            ]
          },
          "metadata": {
            "tags": []
          },
          "execution_count": 15
        }
      ]
    },
    {
      "cell_type": "code",
      "metadata": {
        "id": "ZfFlo9wlVRp_"
      },
      "source": [
        "#03-b Select the last column as the label and call it y."
      ],
      "execution_count": 16,
      "outputs": []
    },
    {
      "cell_type": "code",
      "metadata": {
        "id": "f9CqfICuVZHu",
        "colab": {
          "base_uri": "https://localhost:8080/"
        },
        "outputId": "d25bbbeb-b07b-4483-fa2a-8c2063481c82"
      },
      "source": [
        "y=iris.loc[:,['species']]\n",
        "y.shape\n",
        "# y.columns"
      ],
      "execution_count": 17,
      "outputs": [
        {
          "output_type": "execute_result",
          "data": {
            "text/plain": [
              "(150, 1)"
            ]
          },
          "metadata": {
            "tags": []
          },
          "execution_count": 17
        }
      ]
    },
    {
      "cell_type": "code",
      "metadata": {
        "id": "zoNx--BaVa5D"
      },
      "source": [
        "#04 Now, it is the time to split the data (x) and the label (y) into training and testin segments, \r\n",
        "#   and call them parts x_train,x_test,y_train,y_test."
      ],
      "execution_count": 18,
      "outputs": []
    },
    {
      "cell_type": "code",
      "metadata": {
        "id": "EVywDl4cYB98"
      },
      "source": [
        "#04-a Please split the data, and label ito training and testing segments, while the size of test data is 20%,\r\n",
        "#     and use randome_state = 123 to make all the answers similar in the whole class."
      ],
      "execution_count": 19,
      "outputs": []
    },
    {
      "cell_type": "code",
      "metadata": {
        "id": "FutX0zffZcMC"
      },
      "source": [
        "from sklearn.model_selection import train_test_split\n",
        "x_train, x_test, y_train, y_test = train_test_split(x, y, test_size=0.2, random_state=123)"
      ],
      "execution_count": 20,
      "outputs": []
    },
    {
      "cell_type": "code",
      "metadata": {
        "id": "KaJUAiuTZgoe"
      },
      "source": [
        "#04-b Please, check the first five rows of  x_train,x_test,y_train,y_test."
      ],
      "execution_count": 21,
      "outputs": []
    },
    {
      "cell_type": "code",
      "metadata": {
        "id": "Tol7L4eyZyc0",
        "colab": {
          "base_uri": "https://localhost:8080/",
          "height": 204
        },
        "outputId": "1205dbe4-fffb-4f1f-db65-683af299dc6f"
      },
      "source": [
        "x_train.head()"
      ],
      "execution_count": 22,
      "outputs": [
        {
          "output_type": "execute_result",
          "data": {
            "text/html": [
              "<div>\n",
              "<style scoped>\n",
              "    .dataframe tbody tr th:only-of-type {\n",
              "        vertical-align: middle;\n",
              "    }\n",
              "\n",
              "    .dataframe tbody tr th {\n",
              "        vertical-align: top;\n",
              "    }\n",
              "\n",
              "    .dataframe thead th {\n",
              "        text-align: right;\n",
              "    }\n",
              "</style>\n",
              "<table border=\"1\" class=\"dataframe\">\n",
              "  <thead>\n",
              "    <tr style=\"text-align: right;\">\n",
              "      <th></th>\n",
              "      <th>sepal_length</th>\n",
              "      <th>sepal_width</th>\n",
              "      <th>petal_length</th>\n",
              "      <th>petal_width</th>\n",
              "    </tr>\n",
              "  </thead>\n",
              "  <tbody>\n",
              "    <tr>\n",
              "      <th>130</th>\n",
              "      <td>7.4</td>\n",
              "      <td>2.8</td>\n",
              "      <td>6.1</td>\n",
              "      <td>1.9</td>\n",
              "    </tr>\n",
              "    <tr>\n",
              "      <th>119</th>\n",
              "      <td>6.0</td>\n",
              "      <td>2.2</td>\n",
              "      <td>5.0</td>\n",
              "      <td>1.5</td>\n",
              "    </tr>\n",
              "    <tr>\n",
              "      <th>29</th>\n",
              "      <td>4.7</td>\n",
              "      <td>3.2</td>\n",
              "      <td>1.6</td>\n",
              "      <td>0.2</td>\n",
              "    </tr>\n",
              "    <tr>\n",
              "      <th>0</th>\n",
              "      <td>5.1</td>\n",
              "      <td>3.5</td>\n",
              "      <td>1.4</td>\n",
              "      <td>0.2</td>\n",
              "    </tr>\n",
              "    <tr>\n",
              "      <th>62</th>\n",
              "      <td>6.0</td>\n",
              "      <td>2.2</td>\n",
              "      <td>4.0</td>\n",
              "      <td>1.0</td>\n",
              "    </tr>\n",
              "  </tbody>\n",
              "</table>\n",
              "</div>"
            ],
            "text/plain": [
              "     sepal_length  sepal_width  petal_length  petal_width\n",
              "130           7.4          2.8           6.1          1.9\n",
              "119           6.0          2.2           5.0          1.5\n",
              "29            4.7          3.2           1.6          0.2\n",
              "0             5.1          3.5           1.4          0.2\n",
              "62            6.0          2.2           4.0          1.0"
            ]
          },
          "metadata": {
            "tags": []
          },
          "execution_count": 22
        }
      ]
    },
    {
      "cell_type": "code",
      "metadata": {
        "id": "avm95SyVZ0K9",
        "colab": {
          "base_uri": "https://localhost:8080/",
          "height": 204
        },
        "outputId": "11617a48-2e93-435d-b813-70d4e1372cb3"
      },
      "source": [
        "x_test.head()"
      ],
      "execution_count": 23,
      "outputs": [
        {
          "output_type": "execute_result",
          "data": {
            "text/html": [
              "<div>\n",
              "<style scoped>\n",
              "    .dataframe tbody tr th:only-of-type {\n",
              "        vertical-align: middle;\n",
              "    }\n",
              "\n",
              "    .dataframe tbody tr th {\n",
              "        vertical-align: top;\n",
              "    }\n",
              "\n",
              "    .dataframe thead th {\n",
              "        text-align: right;\n",
              "    }\n",
              "</style>\n",
              "<table border=\"1\" class=\"dataframe\">\n",
              "  <thead>\n",
              "    <tr style=\"text-align: right;\">\n",
              "      <th></th>\n",
              "      <th>sepal_length</th>\n",
              "      <th>sepal_width</th>\n",
              "      <th>petal_length</th>\n",
              "      <th>petal_width</th>\n",
              "    </tr>\n",
              "  </thead>\n",
              "  <tbody>\n",
              "    <tr>\n",
              "      <th>72</th>\n",
              "      <td>6.3</td>\n",
              "      <td>2.5</td>\n",
              "      <td>4.9</td>\n",
              "      <td>1.5</td>\n",
              "    </tr>\n",
              "    <tr>\n",
              "      <th>112</th>\n",
              "      <td>6.8</td>\n",
              "      <td>3.0</td>\n",
              "      <td>5.5</td>\n",
              "      <td>2.1</td>\n",
              "    </tr>\n",
              "    <tr>\n",
              "      <th>132</th>\n",
              "      <td>6.4</td>\n",
              "      <td>2.8</td>\n",
              "      <td>5.6</td>\n",
              "      <td>2.2</td>\n",
              "    </tr>\n",
              "    <tr>\n",
              "      <th>88</th>\n",
              "      <td>5.6</td>\n",
              "      <td>3.0</td>\n",
              "      <td>4.1</td>\n",
              "      <td>1.3</td>\n",
              "    </tr>\n",
              "    <tr>\n",
              "      <th>37</th>\n",
              "      <td>4.9</td>\n",
              "      <td>3.1</td>\n",
              "      <td>1.5</td>\n",
              "      <td>0.1</td>\n",
              "    </tr>\n",
              "  </tbody>\n",
              "</table>\n",
              "</div>"
            ],
            "text/plain": [
              "     sepal_length  sepal_width  petal_length  petal_width\n",
              "72            6.3          2.5           4.9          1.5\n",
              "112           6.8          3.0           5.5          2.1\n",
              "132           6.4          2.8           5.6          2.2\n",
              "88            5.6          3.0           4.1          1.3\n",
              "37            4.9          3.1           1.5          0.1"
            ]
          },
          "metadata": {
            "tags": []
          },
          "execution_count": 23
        }
      ]
    },
    {
      "cell_type": "code",
      "metadata": {
        "id": "zoGgPpQnZ3N0",
        "colab": {
          "base_uri": "https://localhost:8080/",
          "height": 204
        },
        "outputId": "787eea29-3a0e-4a4d-c8d7-b1bd3dc2a18d"
      },
      "source": [
        "y_train.head()"
      ],
      "execution_count": 24,
      "outputs": [
        {
          "output_type": "execute_result",
          "data": {
            "text/html": [
              "<div>\n",
              "<style scoped>\n",
              "    .dataframe tbody tr th:only-of-type {\n",
              "        vertical-align: middle;\n",
              "    }\n",
              "\n",
              "    .dataframe tbody tr th {\n",
              "        vertical-align: top;\n",
              "    }\n",
              "\n",
              "    .dataframe thead th {\n",
              "        text-align: right;\n",
              "    }\n",
              "</style>\n",
              "<table border=\"1\" class=\"dataframe\">\n",
              "  <thead>\n",
              "    <tr style=\"text-align: right;\">\n",
              "      <th></th>\n",
              "      <th>species</th>\n",
              "    </tr>\n",
              "  </thead>\n",
              "  <tbody>\n",
              "    <tr>\n",
              "      <th>130</th>\n",
              "      <td>2</td>\n",
              "    </tr>\n",
              "    <tr>\n",
              "      <th>119</th>\n",
              "      <td>2</td>\n",
              "    </tr>\n",
              "    <tr>\n",
              "      <th>29</th>\n",
              "      <td>0</td>\n",
              "    </tr>\n",
              "    <tr>\n",
              "      <th>0</th>\n",
              "      <td>0</td>\n",
              "    </tr>\n",
              "    <tr>\n",
              "      <th>62</th>\n",
              "      <td>1</td>\n",
              "    </tr>\n",
              "  </tbody>\n",
              "</table>\n",
              "</div>"
            ],
            "text/plain": [
              "     species\n",
              "130        2\n",
              "119        2\n",
              "29         0\n",
              "0          0\n",
              "62         1"
            ]
          },
          "metadata": {
            "tags": []
          },
          "execution_count": 24
        }
      ]
    },
    {
      "cell_type": "code",
      "metadata": {
        "id": "iDabPofuZ5SO",
        "colab": {
          "base_uri": "https://localhost:8080/",
          "height": 204
        },
        "outputId": "9bd6752e-2f8f-4985-ad5c-c3d9f7cf8791"
      },
      "source": [
        "y_test.head()"
      ],
      "execution_count": 25,
      "outputs": [
        {
          "output_type": "execute_result",
          "data": {
            "text/html": [
              "<div>\n",
              "<style scoped>\n",
              "    .dataframe tbody tr th:only-of-type {\n",
              "        vertical-align: middle;\n",
              "    }\n",
              "\n",
              "    .dataframe tbody tr th {\n",
              "        vertical-align: top;\n",
              "    }\n",
              "\n",
              "    .dataframe thead th {\n",
              "        text-align: right;\n",
              "    }\n",
              "</style>\n",
              "<table border=\"1\" class=\"dataframe\">\n",
              "  <thead>\n",
              "    <tr style=\"text-align: right;\">\n",
              "      <th></th>\n",
              "      <th>species</th>\n",
              "    </tr>\n",
              "  </thead>\n",
              "  <tbody>\n",
              "    <tr>\n",
              "      <th>72</th>\n",
              "      <td>1</td>\n",
              "    </tr>\n",
              "    <tr>\n",
              "      <th>112</th>\n",
              "      <td>2</td>\n",
              "    </tr>\n",
              "    <tr>\n",
              "      <th>132</th>\n",
              "      <td>2</td>\n",
              "    </tr>\n",
              "    <tr>\n",
              "      <th>88</th>\n",
              "      <td>1</td>\n",
              "    </tr>\n",
              "    <tr>\n",
              "      <th>37</th>\n",
              "      <td>0</td>\n",
              "    </tr>\n",
              "  </tbody>\n",
              "</table>\n",
              "</div>"
            ],
            "text/plain": [
              "     species\n",
              "72         1\n",
              "112        2\n",
              "132        2\n",
              "88         1\n",
              "37         0"
            ]
          },
          "metadata": {
            "tags": []
          },
          "execution_count": 25
        }
      ]
    },
    {
      "cell_type": "code",
      "metadata": {
        "id": "wUHaE8fJbg8w"
      },
      "source": [
        "#04-c Check the length of the x_train and x_test. If the numbers are 120 & 30, AWESOME! \r\n",
        "#     You are good to continue!"
      ],
      "execution_count": 26,
      "outputs": []
    },
    {
      "cell_type": "code",
      "metadata": {
        "id": "k_-kNMocbgsv",
        "colab": {
          "base_uri": "https://localhost:8080/"
        },
        "outputId": "f5c2f9a8-be7a-457a-9644-94d2d85c53e7"
      },
      "source": [
        "print(\"training-length-data:(\", x_train.shape, y_train.shape,\")\")"
      ],
      "execution_count": 27,
      "outputs": [
        {
          "output_type": "stream",
          "text": [
            "training-length-data:( (120, 4) (120, 1) )\n"
          ],
          "name": "stdout"
        }
      ]
    },
    {
      "cell_type": "code",
      "metadata": {
        "id": "GgEi1h-rbgcM",
        "colab": {
          "base_uri": "https://localhost:8080/"
        },
        "outputId": "043a002e-11e4-4268-d0bd-45b013b22f7b"
      },
      "source": [
        "print(\"testing-data-length:(\", x_test.shape, y_test.shape,\")\")"
      ],
      "execution_count": 28,
      "outputs": [
        {
          "output_type": "stream",
          "text": [
            "testing-data-length:( (30, 4) (30, 1) )\n"
          ],
          "name": "stdout"
        }
      ]
    },
    {
      "cell_type": "code",
      "metadata": {
        "id": "tEdcdmEWZ6W-"
      },
      "source": [
        "#05-a Please, convert y_train and y_test into categorical, and call them\r\n",
        "#     one_hot_train_labels, and one_hot_test_labels, respectively."
      ],
      "execution_count": 29,
      "outputs": []
    },
    {
      "cell_type": "code",
      "metadata": {
        "id": "fVJ8Kn4kbXBF"
      },
      "source": [
        "from keras.utils import to_categorical\n",
        "one_hot_train_labels = to_categorical(y_train)\n",
        "one_hot_test_labels = to_categorical(y_test)"
      ],
      "execution_count": 30,
      "outputs": []
    },
    {
      "cell_type": "code",
      "metadata": {
        "id": "QL4-xxR9bZP1"
      },
      "source": [
        "#06-a Please define a sequential model that contains 3 dense layers.\r\n",
        "#     In the first and second layers, use 100 hidden units (neurons) and a 'relu' activation function.\r\n",
        "#     For the last layer, we need to use 3 as the number of output, \r\n",
        "#     and the reason is we have three classes (setosa -> 0, versicolor -> 1, virginica -> 2)\r\n",
        "#     Also, please pick an appropriate activation function for the last layer. \r\n",
        "#     (You already have guessed what could be the best when we have converted the labels to categorical.)"
      ],
      "execution_count": 31,
      "outputs": []
    },
    {
      "cell_type": "code",
      "metadata": {
        "id": "6l5Rqmy3uPbu"
      },
      "source": [
        "from keras import models\n",
        "from keras import layers\n",
        "network = models.Sequential()\n",
        "network.add(layers.Dense(100, activation='relu'))\n",
        "network.add(layers.Dense(100, activation='relu'))\n",
        "network.add(layers.Dense(3, activation='softmax'))\n"
      ],
      "execution_count": 32,
      "outputs": []
    },
    {
      "cell_type": "code",
      "metadata": {
        "id": "GCtYDS08wZY_"
      },
      "source": [
        "#06-b Now, please compile your model using 'rmsprop', an appropriate loss function, and 'accuracy' for your metrics."
      ],
      "execution_count": 33,
      "outputs": []
    },
    {
      "cell_type": "code",
      "metadata": {
        "id": "P8xNko36wx2d"
      },
      "source": [
        "network.compile(optimizer='rmsprop',\n",
        "                loss='categorical_crossentropy',\n",
        "                metrics=['accuracy'])"
      ],
      "execution_count": 34,
      "outputs": []
    },
    {
      "cell_type": "code",
      "metadata": {
        "id": "RziNJNwWwz2r"
      },
      "source": [
        "#07-a Pleease fit your model using epoch=20, batch = 10."
      ],
      "execution_count": 35,
      "outputs": []
    },
    {
      "cell_type": "code",
      "metadata": {
        "id": "oALCvb_SxD4_",
        "colab": {
          "base_uri": "https://localhost:8080/"
        },
        "outputId": "6e541aa9-f818-4c7b-cc41-1246564a0369"
      },
      "source": [
        "network.fit(x_train, one_hot_train_labels, epochs=20, batch_size=10)"
      ],
      "execution_count": 36,
      "outputs": [
        {
          "output_type": "stream",
          "text": [
            "Epoch 1/20\n",
            "12/12 [==============================] - 1s 2ms/step - loss: 0.9444 - accuracy: 0.6147\n",
            "Epoch 2/20\n",
            "12/12 [==============================] - 0s 1ms/step - loss: 0.6371 - accuracy: 0.7930\n",
            "Epoch 3/20\n",
            "12/12 [==============================] - 0s 2ms/step - loss: 0.5041 - accuracy: 0.8722\n",
            "Epoch 4/20\n",
            "12/12 [==============================] - 0s 1ms/step - loss: 0.4362 - accuracy: 0.8920\n",
            "Epoch 5/20\n",
            "12/12 [==============================] - 0s 2ms/step - loss: 0.3572 - accuracy: 0.9351\n",
            "Epoch 6/20\n",
            "12/12 [==============================] - 0s 1ms/step - loss: 0.3150 - accuracy: 0.9504\n",
            "Epoch 7/20\n",
            "12/12 [==============================] - 0s 2ms/step - loss: 0.3070 - accuracy: 0.8854\n",
            "Epoch 8/20\n",
            "12/12 [==============================] - 0s 2ms/step - loss: 0.2514 - accuracy: 0.9700\n",
            "Epoch 9/20\n",
            "12/12 [==============================] - 0s 2ms/step - loss: 0.2019 - accuracy: 0.9475\n",
            "Epoch 10/20\n",
            "12/12 [==============================] - 0s 2ms/step - loss: 0.1878 - accuracy: 0.9541\n",
            "Epoch 11/20\n",
            "12/12 [==============================] - 0s 1ms/step - loss: 0.1823 - accuracy: 0.9737\n",
            "Epoch 12/20\n",
            "12/12 [==============================] - 0s 1ms/step - loss: 0.1580 - accuracy: 0.9708\n",
            "Epoch 13/20\n",
            "12/12 [==============================] - 0s 1ms/step - loss: 0.1622 - accuracy: 0.9274\n",
            "Epoch 14/20\n",
            "12/12 [==============================] - 0s 1ms/step - loss: 0.1444 - accuracy: 0.9424\n",
            "Epoch 15/20\n",
            "12/12 [==============================] - 0s 2ms/step - loss: 0.1434 - accuracy: 0.9597\n",
            "Epoch 16/20\n",
            "12/12 [==============================] - 0s 2ms/step - loss: 0.1364 - accuracy: 0.9426\n",
            "Epoch 17/20\n",
            "12/12 [==============================] - 0s 1ms/step - loss: 0.0953 - accuracy: 0.9833\n",
            "Epoch 18/20\n",
            "12/12 [==============================] - 0s 1ms/step - loss: 0.1632 - accuracy: 0.9168\n",
            "Epoch 19/20\n",
            "12/12 [==============================] - 0s 2ms/step - loss: 0.0725 - accuracy: 0.9922\n",
            "Epoch 20/20\n",
            "12/12 [==============================] - 0s 2ms/step - loss: 0.1376 - accuracy: 0.9689\n"
          ],
          "name": "stdout"
        },
        {
          "output_type": "execute_result",
          "data": {
            "text/plain": [
              "<tensorflow.python.keras.callbacks.History at 0x7fb7473f4690>"
            ]
          },
          "metadata": {
            "tags": []
          },
          "execution_count": 36
        }
      ]
    },
    {
      "cell_type": "code",
      "metadata": {
        "id": "iJJ4tXQxxEWc"
      },
      "source": [
        "#08-a Please calculate the result, evaluating your x_test, one_hot_test_label, and see how accurate your model works."
      ],
      "execution_count": 37,
      "outputs": []
    },
    {
      "cell_type": "code",
      "metadata": {
        "id": "GfnYWxMcxY5F",
        "colab": {
          "base_uri": "https://localhost:8080/"
        },
        "outputId": "03b8d3cb-16eb-4c6d-b590-6ca897d10c68"
      },
      "source": [
        "network.evaluate(x_test, one_hot_test_labels)\n"
      ],
      "execution_count": 38,
      "outputs": [
        {
          "output_type": "stream",
          "text": [
            "1/1 [==============================] - 0s 181ms/step - loss: 0.1428 - accuracy: 0.9667\n"
          ],
          "name": "stdout"
        },
        {
          "output_type": "execute_result",
          "data": {
            "text/plain": [
              "[0.14283248782157898, 0.9666666388511658]"
            ]
          },
          "metadata": {
            "tags": []
          },
          "execution_count": 38
        }
      ]
    },
    {
      "cell_type": "code",
      "metadata": {
        "id": "mf9Sc3XCxbFV"
      },
      "source": [
        "#09-a Now, we repeate all we have done in #06-a with the following parameters:\r\n",
        "#     In the first and second layers, use 10 hidden units (neurons) and a 'relu' activation function.\r\n",
        "#     For the last layer, we need to use 3. "
      ],
      "execution_count": 39,
      "outputs": []
    },
    {
      "cell_type": "code",
      "metadata": {
        "id": "7a9aqyMwx0SF"
      },
      "source": [
        "network = models.Sequential()\n",
        "network.add(layers.Dense(10, activation='relu'))\n",
        "network.add(layers.Dense(10, activation='relu'))\n",
        "network.add(layers.Dense(3, activation='softmax'))"
      ],
      "execution_count": 40,
      "outputs": []
    },
    {
      "cell_type": "code",
      "metadata": {
        "id": "XlXCDQ7gx8FM"
      },
      "source": [
        "#09-b Use the same setting as you have done for #06-b (compile phase using 'rmsprop' and et cetera)"
      ],
      "execution_count": 41,
      "outputs": []
    },
    {
      "cell_type": "code",
      "metadata": {
        "id": "HHiCnVpIyFs9"
      },
      "source": [
        "network.compile(optimizer='rmsprop',\n",
        "                loss='categorical_crossentropy',\n",
        "                metrics=['accuracy'])"
      ],
      "execution_count": 42,
      "outputs": []
    },
    {
      "cell_type": "code",
      "metadata": {
        "id": "60JPnxqvyQb0"
      },
      "source": [
        "#09-c Please fit your model using epoch=4, batch = 10."
      ],
      "execution_count": 43,
      "outputs": []
    },
    {
      "cell_type": "code",
      "metadata": {
        "id": "y-RKym7uyaG0",
        "colab": {
          "base_uri": "https://localhost:8080/"
        },
        "outputId": "63d0869f-803d-4d82-b00c-4bb234493563"
      },
      "source": [
        "network.fit(x_train, one_hot_train_labels, epochs=4, batch_size=10)"
      ],
      "execution_count": 44,
      "outputs": [
        {
          "output_type": "stream",
          "text": [
            "Epoch 1/4\n",
            "12/12 [==============================] - 1s 1ms/step - loss: 2.6927 - accuracy: 0.3493\n",
            "Epoch 2/4\n",
            "12/12 [==============================] - 0s 1ms/step - loss: 2.0521 - accuracy: 0.3550\n",
            "Epoch 3/4\n",
            "12/12 [==============================] - 0s 1ms/step - loss: 1.6129 - accuracy: 0.3828\n",
            "Epoch 4/4\n",
            "12/12 [==============================] - 0s 1ms/step - loss: 1.3786 - accuracy: 0.3791\n"
          ],
          "name": "stdout"
        },
        {
          "output_type": "execute_result",
          "data": {
            "text/plain": [
              "<tensorflow.python.keras.callbacks.History at 0x7fb744c25590>"
            ]
          },
          "metadata": {
            "tags": []
          },
          "execution_count": 44
        }
      ]
    },
    {
      "cell_type": "code",
      "metadata": {
        "id": "InudSE3fychb"
      },
      "source": [
        "#09-d Please calculate the result, evaluating your x_test, one_hot_test_label, and see how accurate your model works."
      ],
      "execution_count": 45,
      "outputs": []
    },
    {
      "cell_type": "code",
      "metadata": {
        "id": "23Lr2veHyxUU",
        "colab": {
          "base_uri": "https://localhost:8080/"
        },
        "outputId": "bb884359-9c74-4665-f700-11962850814f"
      },
      "source": [
        "network.evaluate(x_test, one_hot_test_labels)"
      ],
      "execution_count": 46,
      "outputs": [
        {
          "output_type": "stream",
          "text": [
            "1/1 [==============================] - 0s 153ms/step - loss: 1.4999 - accuracy: 0.2000\n"
          ],
          "name": "stdout"
        },
        {
          "output_type": "execute_result",
          "data": {
            "text/plain": [
              "[1.4999024868011475, 0.20000000298023224]"
            ]
          },
          "metadata": {
            "tags": []
          },
          "execution_count": 46
        }
      ]
    },
    {
      "cell_type": "code",
      "metadata": {
        "id": "ov5UKqtuyzvb"
      },
      "source": [
        "#10-a Please explain all you have learned from this assignment. \r\n",
        "# Theese are some quiestions that you could answer:\r\n",
        "# How the number of layers or hidden units could impact the accuracy of our model.\r\n",
        "# Do we always suffer from overfitting?\r\n",
        "# How can we find and manage overfitting?"
      ],
      "execution_count": 47,
      "outputs": []
    },
    {
      "cell_type": "markdown",
      "metadata": {
        "id": "iW9TViBD41y2"
      },
      "source": [
        "Double-click here to start typing your answer: The use of number of hidden layers could have both positive and negative impacts on accuracy, which actually depends more on the complexity of the problem. Based on the above different testing observatond, I can say that increasing sufficient hidden layers definitely improves the output accuracy, while use of much more hidden layers decreses the accuracy.  \n",
        "Overfitting is common problem in machine learning. By identifying the complexity of problem, we will be able to use only sufficient hidden layers along with number of epochs, so that network generalize well from training data to testing data."
      ]
    },
    {
      "cell_type": "code",
      "metadata": {
        "id": "wjl8cvkazc_p"
      },
      "source": [
        "#10-b\r\n",
        "# Please try different sessing as we did in #09\r\n",
        "# You can change the number of layers, hidden units, compile parameters, number of epochs, batch_size... everything!\r\n",
        "# Please change one parameter at a time.\r\n",
        "# And share your experience."
      ],
      "execution_count": 48,
      "outputs": []
    },
    {
      "cell_type": "markdown",
      "metadata": {
        "id": "W-Hsqpp_420S"
      },
      "source": [
        "Double-click here to start typing your answer: I got the following result from the test upon changing different parameters. \n",
        "\n",
        "testdata acc --- traindata acc ----layers # ----layers units ----- epochs \n",
        "\n",
        ".93----.96----2----100----20\n",
        "\n",
        ".93----.97----2----500----20\n",
        "\n",
        ".96----.98----4----500----40 (accuracy increased in unseen data)\n",
        "\n",
        ".86----.98----4----100----20(accuracy decreased in unseen data upon less layers and epochs)\n",
        "\n",
        ".96----.89----4----500----20(accuracy increased in unseen data but decreased in training data upon using less epochs\n",
        "\n"
      ]
    },
    {
      "cell_type": "markdown",
      "metadata": {
        "id": "KmtO28C51lXS"
      },
      "source": [
        "## Deliverable:\r\n",
        "Part A:\r\n",
        "\r\n",
        "Submitting the current colab file.\r\n",
        "\r\n",
        "Part B:\r\n",
        "\r\n",
        "Please record and upload a video to YouTube, describing all you have done in 5 to 10 video recorded clip. If you go beyond 10 minutes, it is fine, and the mentioned time range is to show how the scale of the assignment could be. Then submit a notepad text document that contains the link to the uploaded YouTube video.\r\n",
        "\r\n"
      ]
    },
    {
      "cell_type": "code",
      "metadata": {
        "id": "0oT_gJx4-s_6"
      },
      "source": [
        ""
      ],
      "execution_count": 48,
      "outputs": []
    }
  ]
}